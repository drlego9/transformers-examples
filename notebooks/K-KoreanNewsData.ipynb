{
 "cells": [
  {
   "cell_type": "code",
   "execution_count": 1,
   "metadata": {
    "ExecuteTime": {
     "end_time": "2019-11-01T06:50:31.144661Z",
     "start_time": "2019-11-01T06:50:30.641494Z"
    }
   },
   "outputs": [],
   "source": [
    "import os\n",
    "import re\n",
    "import glob\n",
    "import pickle\n",
    "\n",
    "import numpy as np\n",
    "import pandas as pd\n",
    "import matplotlib.pyplot as plt\n",
    "import seaborn as sns\n",
    "\n",
    "from tqdm import tqdm_notebook\n",
    "\n",
    "try:\n",
    "    from jupyterthemes import jtplot\n",
    "    jtplot.style(theme='onedork', context='talk', fscale=1.4, ticks=True, grid=True, figsize=(10, 6))\n",
    "except ModuleNotFoundError:\n",
    "    print(\"Jupyterthemes not found. Check https://github.com/dunovank/jupyter-themes for more information.\")"
   ]
  },
  {
   "cell_type": "code",
   "execution_count": 2,
   "metadata": {
    "ExecuteTime": {
     "end_time": "2019-11-01T06:50:31.148256Z",
     "start_time": "2019-11-01T06:50:31.146009Z"
    }
   },
   "outputs": [],
   "source": [
    "ROOT = '../.data/news-kor/'\n",
    "assert os.path.isdir(ROOT), \"Check the root directory.\""
   ]
  },
  {
   "cell_type": "code",
   "execution_count": 3,
   "metadata": {
    "ExecuteTime": {
     "end_time": "2019-11-01T06:50:31.170366Z",
     "start_time": "2019-11-01T06:50:31.149578Z"
    }
   },
   "outputs": [
    {
     "name": "stdout",
     "output_type": "stream",
     "text": [
      "76 .pickle files available.\n"
     ]
    }
   ],
   "source": [
    "filenames = glob.glob(os.path.join(ROOT, '**/*.pickle'))\n",
    "print(f\"{len(filenames)} .pickle files available.\")"
   ]
  },
  {
   "cell_type": "code",
   "execution_count": 4,
   "metadata": {
    "ExecuteTime": {
     "end_time": "2019-11-01T06:50:40.677436Z",
     "start_time": "2019-11-01T06:50:31.171553Z"
    }
   },
   "outputs": [
    {
     "data": {
      "application/vnd.jupyter.widget-view+json": {
       "model_id": "c86184e13ed64c5f9d476d2343ccc5d5",
       "version_major": 2,
       "version_minor": 0
      },
      "text/plain": [
       "HBox(children=(IntProgress(value=0, description='Files', max=76, style=ProgressStyle(description_width='initia…"
      ]
     },
     "metadata": {},
     "output_type": "display_data"
    },
    {
     "name": "stdout",
     "output_type": "stream",
     "text": [
      "\n"
     ]
    }
   ],
   "source": [
    "result = []\n",
    "for filename in tqdm_notebook(filenames, desc='Files'):\n",
    "    \n",
    "    # Open pickle file\n",
    "    with open(filename, 'rb') as f:\n",
    "        articles = pickle.load(f)\n",
    "        assert isinstance(articles, list)\n",
    "    \n",
    "    # Preprocess\n",
    "    for article in articles:\n",
    "        \n",
    "        text = article['history'][-1]['description']  # get text\n",
    "        \n",
    "        text = re.sub(r'\\S*@\\S*\\s', '', text)  # remove e-mail\n",
    "        text = re.sub(r'[\\n\\r\\t]', '', text)   # remove str controllers\n",
    "        text = re.sub(r'\\s+', ' ', text)       # remove duplicate wspaces\n",
    "        \n",
    "        text = text.strip()  # remove redundant whitespaces\n",
    "        \n",
    "        result.append(text)"
   ]
  },
  {
   "cell_type": "code",
   "execution_count": null,
   "metadata": {},
   "outputs": [],
   "source": []
  }
 ],
 "metadata": {
  "kernelspec": {
   "display_name": "Python 3",
   "language": "python",
   "name": "python3"
  },
  "language_info": {
   "codemirror_mode": {
    "name": "ipython",
    "version": 3
   },
   "file_extension": ".py",
   "mimetype": "text/x-python",
   "name": "python",
   "nbconvert_exporter": "python",
   "pygments_lexer": "ipython3",
   "version": "3.7.4"
  },
  "varInspector": {
   "cols": {
    "lenName": 16,
    "lenType": 16,
    "lenVar": 40
   },
   "kernels_config": {
    "python": {
     "delete_cmd_postfix": "",
     "delete_cmd_prefix": "del ",
     "library": "var_list.py",
     "varRefreshCmd": "print(var_dic_list())"
    },
    "r": {
     "delete_cmd_postfix": ") ",
     "delete_cmd_prefix": "rm(",
     "library": "var_list.r",
     "varRefreshCmd": "cat(var_dic_list()) "
    }
   },
   "types_to_exclude": [
    "module",
    "function",
    "builtin_function_or_method",
    "instance",
    "_Feature"
   ],
   "window_display": false
  }
 },
 "nbformat": 4,
 "nbformat_minor": 2
}
