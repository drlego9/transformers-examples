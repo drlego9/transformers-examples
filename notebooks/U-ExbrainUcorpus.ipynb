{
 "cells": [
  {
   "cell_type": "code",
   "execution_count": 1,
   "metadata": {
    "ExecuteTime": {
     "end_time": "2019-11-01T09:04:31.047703Z",
     "start_time": "2019-11-01T09:04:31.041307Z"
    }
   },
   "outputs": [],
   "source": [
    "import os\n",
    "import re\n",
    "\n",
    "from tqdm import tqdm_notebook"
   ]
  },
  {
   "cell_type": "code",
   "execution_count": 2,
   "metadata": {
    "ExecuteTime": {
     "end_time": "2019-11-01T09:04:31.064588Z",
     "start_time": "2019-11-01T09:04:31.049225Z"
    }
   },
   "outputs": [],
   "source": [
    "ROOT = '../.data/exbrain-ucorpus/'\n",
    "assert os.path.isdir(ROOT), \"Check root directory.\""
   ]
  },
  {
   "cell_type": "code",
   "execution_count": 3,
   "metadata": {
    "ExecuteTime": {
     "end_time": "2019-11-01T09:04:31.081355Z",
     "start_time": "2019-11-01T09:04:31.066041Z"
    }
   },
   "outputs": [],
   "source": [
    "filename = 'training_corpus_exbrain.txt'\n",
    "assert os.path.exists(os.path.join(ROOT, filename))"
   ]
  },
  {
   "cell_type": "code",
   "execution_count": 4,
   "metadata": {
    "ExecuteTime": {
     "end_time": "2019-11-01T09:04:31.631147Z",
     "start_time": "2019-11-01T09:04:31.082434Z"
    }
   },
   "outputs": [],
   "source": [
    "# Read data\n",
    "with open(os.path.join(ROOT, filename), 'rb') as f:\n",
    "    raw_corpus = f.readlines()"
   ]
  },
  {
   "cell_type": "code",
   "execution_count": 5,
   "metadata": {
    "ExecuteTime": {
     "end_time": "2019-11-01T09:04:32.250228Z",
     "start_time": "2019-11-01T09:04:31.632373Z"
    }
   },
   "outputs": [],
   "source": [
    "lines = []\n",
    "for i, line in enumerate(raw_corpus):\n",
    "    if i % 3 == 0:\n",
    "        lines.append(line)  # raw (0) / POS tags (1) / \\r\\n (2)"
   ]
  },
  {
   "cell_type": "code",
   "execution_count": 6,
   "metadata": {
    "ExecuteTime": {
     "end_time": "2019-11-01T09:04:32.256410Z",
     "start_time": "2019-11-01T09:04:32.251526Z"
    }
   },
   "outputs": [
    {
     "name": "stdout",
     "output_type": "stream",
     "text": [
      "엠마누엘 웅가로 / 의상서 실내 장식품으로… 디자인 세계 넓혀\r\n",
      "\n",
      "프랑스의 세계적인 의상 디자이너 엠마누엘 웅가로가 실내 장식용 직물 디자이너로 나섰다.\r\n",
      "\n",
      "웅가로는 침실과 식당, 욕실에서 사용하는 갖가지 직물제품을 디자인해 최근 파리의 갤러리 라파예트백화점에서 '색의 컬렉션'이라는 이름으로 전시회를 열었다.\r\n",
      "\n",
      "목욕가운부터 탁자보, 냅킨, 앞치마까지 그가 디자인한 작품들에서 두드러지는 것은 색의 조화다.\r\n",
      "\n",
      "엠마누엘 웅가로는 \"실내 장식품을 디자인할 때 옷을 만들 때와는 다른 해방감을 느낀다\"고 말한다.\r\n",
      "\n"
     ]
    }
   ],
   "source": [
    "# Print examples\n",
    "print(*[l.decode('cp949') for l in lines[:5]], sep='\\n')"
   ]
  },
  {
   "cell_type": "code",
   "execution_count": 7,
   "metadata": {
    "ExecuteTime": {
     "end_time": "2019-11-01T09:04:43.116298Z",
     "start_time": "2019-11-01T09:04:32.258987Z"
    }
   },
   "outputs": [
    {
     "data": {
      "application/vnd.jupyter.widget-view+json": {
       "model_id": "50ec556135ea43efb67e5967407d423f",
       "version_major": 2,
       "version_minor": 0
      },
      "text/plain": [
       "HBox(children=(IntProgress(value=0, description='Lines', max=1718863, style=ProgressStyle(description_width='i…"
      ]
     },
     "metadata": {},
     "output_type": "display_data"
    },
    {
     "name": "stdout",
     "output_type": "stream",
     "text": [
      "\n"
     ]
    }
   ],
   "source": [
    "# Some cleaning\n",
    "processed_lines = []\n",
    "skipped = 0\n",
    "for l in tqdm_notebook(lines, desc='Lines'):\n",
    "    try:\n",
    "        l_ = l.decode('cp949')\n",
    "        l_ = re.sub(r'[\\n\\r\\t]', '', l_)  # remove str controllers\n",
    "        l_ = re.sub(r'\\s+', ' ', l_)      # remove duplicate whitespaces\n",
    "        l_ = l_.strip()\n",
    "        processed_lines.append(l_)\n",
    "    except UnicodeDecodeError:\n",
    "        skipped += 1"
   ]
  },
  {
   "cell_type": "code",
   "execution_count": null,
   "metadata": {},
   "outputs": [],
   "source": []
  }
 ],
 "metadata": {
  "kernelspec": {
   "display_name": "Python 3",
   "language": "python",
   "name": "python3"
  },
  "language_info": {
   "codemirror_mode": {
    "name": "ipython",
    "version": 3
   },
   "file_extension": ".py",
   "mimetype": "text/x-python",
   "name": "python",
   "nbconvert_exporter": "python",
   "pygments_lexer": "ipython3",
   "version": "3.7.4"
  },
  "varInspector": {
   "cols": {
    "lenName": 16,
    "lenType": 16,
    "lenVar": 40
   },
   "kernels_config": {
    "python": {
     "delete_cmd_postfix": "",
     "delete_cmd_prefix": "del ",
     "library": "var_list.py",
     "varRefreshCmd": "print(var_dic_list())"
    },
    "r": {
     "delete_cmd_postfix": ") ",
     "delete_cmd_prefix": "rm(",
     "library": "var_list.r",
     "varRefreshCmd": "cat(var_dic_list()) "
    }
   },
   "types_to_exclude": [
    "module",
    "function",
    "builtin_function_or_method",
    "instance",
    "_Feature"
   ],
   "window_display": false
  }
 },
 "nbformat": 4,
 "nbformat_minor": 2
}
